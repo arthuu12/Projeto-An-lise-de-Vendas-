{
  "nbformat": 4,
  "nbformat_minor": 0,
  "metadata": {
    "colab": {
      "provenance": []
    },
    "kernelspec": {
      "name": "python3",
      "display_name": "Python 3"
    },
    "language_info": {
      "name": "python"
    }
  },
  "cells": [
    {
      "cell_type": "markdown",
      "source": [
        "# Relatório da Análise de Vendas\n",
        "\\\n",
        "Este projeto analisou o dataset \"Sample - Superstore\", de origem educacional do Kaggle, para identificar os produtos mais lucrativos por categoria na Amazon. Após uma etapa de limpeza que removeu outliers significativos, a análise revelou que categorias como \"Copiadoras\" e \"Fichários\" têm lucro concentrado em poucos itens, enquanto \"Mesas\" e \"Estantes\" apresentam produtos com prejuízo, sugerindo uma necessidade de revisão estratégica."
      ],
      "metadata": {
        "id": "LKwN0eOkoziG"
      }
    },
    {
      "cell_type": "code",
      "source": [
        "import pandas as pd\n",
        "import matplotlib.pyplot as plt\n",
        "import gdown\n",
        "plt.style.use('ggplot')"
      ],
      "metadata": {
        "id": "RjE149uDFFSe"
      },
      "execution_count": 1,
      "outputs": []
    },
    {
      "cell_type": "code",
      "source": [
        "Amazon = pd.read_csv(\"Amazon-2_Raw.csv\", index_col=0)"
      ],
      "metadata": {
        "id": "wWpT4MItFIm9",
        "colab": {
          "base_uri": "https://localhost:8080/",
          "height": 287
        },
        "outputId": "7344c116-63c7-4adf-93d3-aa351703f564"
      },
      "execution_count": 2,
      "outputs": [
        {
          "output_type": "error",
          "ename": "FileNotFoundError",
          "evalue": "[Errno 2] No such file or directory: 'Amazon-2_Raw.csv'",
          "traceback": [
            "\u001b[0;31m---------------------------------------------------------------------------\u001b[0m",
            "\u001b[0;31mFileNotFoundError\u001b[0m                         Traceback (most recent call last)",
            "\u001b[0;32m/tmp/ipython-input-104288512.py\u001b[0m in \u001b[0;36m<cell line: 0>\u001b[0;34m()\u001b[0m\n\u001b[0;32m----> 1\u001b[0;31m \u001b[0mAmazon\u001b[0m \u001b[0;34m=\u001b[0m \u001b[0mpd\u001b[0m\u001b[0;34m.\u001b[0m\u001b[0mread_csv\u001b[0m\u001b[0;34m(\u001b[0m\u001b[0;34m\"Amazon-2_Raw.csv\"\u001b[0m\u001b[0;34m,\u001b[0m \u001b[0mindex_col\u001b[0m\u001b[0;34m=\u001b[0m\u001b[0;36m0\u001b[0m\u001b[0;34m)\u001b[0m\u001b[0;34m\u001b[0m\u001b[0;34m\u001b[0m\u001b[0m\n\u001b[0m",
            "\u001b[0;32m/usr/local/lib/python3.12/dist-packages/pandas/io/parsers/readers.py\u001b[0m in \u001b[0;36mread_csv\u001b[0;34m(filepath_or_buffer, sep, delimiter, header, names, index_col, usecols, dtype, engine, converters, true_values, false_values, skipinitialspace, skiprows, skipfooter, nrows, na_values, keep_default_na, na_filter, verbose, skip_blank_lines, parse_dates, infer_datetime_format, keep_date_col, date_parser, date_format, dayfirst, cache_dates, iterator, chunksize, compression, thousands, decimal, lineterminator, quotechar, quoting, doublequote, escapechar, comment, encoding, encoding_errors, dialect, on_bad_lines, delim_whitespace, low_memory, memory_map, float_precision, storage_options, dtype_backend)\u001b[0m\n\u001b[1;32m   1024\u001b[0m     \u001b[0mkwds\u001b[0m\u001b[0;34m.\u001b[0m\u001b[0mupdate\u001b[0m\u001b[0;34m(\u001b[0m\u001b[0mkwds_defaults\u001b[0m\u001b[0;34m)\u001b[0m\u001b[0;34m\u001b[0m\u001b[0;34m\u001b[0m\u001b[0m\n\u001b[1;32m   1025\u001b[0m \u001b[0;34m\u001b[0m\u001b[0m\n\u001b[0;32m-> 1026\u001b[0;31m     \u001b[0;32mreturn\u001b[0m \u001b[0m_read\u001b[0m\u001b[0;34m(\u001b[0m\u001b[0mfilepath_or_buffer\u001b[0m\u001b[0;34m,\u001b[0m \u001b[0mkwds\u001b[0m\u001b[0;34m)\u001b[0m\u001b[0;34m\u001b[0m\u001b[0;34m\u001b[0m\u001b[0m\n\u001b[0m\u001b[1;32m   1027\u001b[0m \u001b[0;34m\u001b[0m\u001b[0m\n\u001b[1;32m   1028\u001b[0m \u001b[0;34m\u001b[0m\u001b[0m\n",
            "\u001b[0;32m/usr/local/lib/python3.12/dist-packages/pandas/io/parsers/readers.py\u001b[0m in \u001b[0;36m_read\u001b[0;34m(filepath_or_buffer, kwds)\u001b[0m\n\u001b[1;32m    618\u001b[0m \u001b[0;34m\u001b[0m\u001b[0m\n\u001b[1;32m    619\u001b[0m     \u001b[0;31m# Create the parser.\u001b[0m\u001b[0;34m\u001b[0m\u001b[0;34m\u001b[0m\u001b[0m\n\u001b[0;32m--> 620\u001b[0;31m     \u001b[0mparser\u001b[0m \u001b[0;34m=\u001b[0m \u001b[0mTextFileReader\u001b[0m\u001b[0;34m(\u001b[0m\u001b[0mfilepath_or_buffer\u001b[0m\u001b[0;34m,\u001b[0m \u001b[0;34m**\u001b[0m\u001b[0mkwds\u001b[0m\u001b[0;34m)\u001b[0m\u001b[0;34m\u001b[0m\u001b[0;34m\u001b[0m\u001b[0m\n\u001b[0m\u001b[1;32m    621\u001b[0m \u001b[0;34m\u001b[0m\u001b[0m\n\u001b[1;32m    622\u001b[0m     \u001b[0;32mif\u001b[0m \u001b[0mchunksize\u001b[0m \u001b[0;32mor\u001b[0m \u001b[0miterator\u001b[0m\u001b[0;34m:\u001b[0m\u001b[0;34m\u001b[0m\u001b[0;34m\u001b[0m\u001b[0m\n",
            "\u001b[0;32m/usr/local/lib/python3.12/dist-packages/pandas/io/parsers/readers.py\u001b[0m in \u001b[0;36m__init__\u001b[0;34m(self, f, engine, **kwds)\u001b[0m\n\u001b[1;32m   1618\u001b[0m \u001b[0;34m\u001b[0m\u001b[0m\n\u001b[1;32m   1619\u001b[0m         \u001b[0mself\u001b[0m\u001b[0;34m.\u001b[0m\u001b[0mhandles\u001b[0m\u001b[0;34m:\u001b[0m \u001b[0mIOHandles\u001b[0m \u001b[0;34m|\u001b[0m \u001b[0;32mNone\u001b[0m \u001b[0;34m=\u001b[0m \u001b[0;32mNone\u001b[0m\u001b[0;34m\u001b[0m\u001b[0;34m\u001b[0m\u001b[0m\n\u001b[0;32m-> 1620\u001b[0;31m         \u001b[0mself\u001b[0m\u001b[0;34m.\u001b[0m\u001b[0m_engine\u001b[0m \u001b[0;34m=\u001b[0m \u001b[0mself\u001b[0m\u001b[0;34m.\u001b[0m\u001b[0m_make_engine\u001b[0m\u001b[0;34m(\u001b[0m\u001b[0mf\u001b[0m\u001b[0;34m,\u001b[0m \u001b[0mself\u001b[0m\u001b[0;34m.\u001b[0m\u001b[0mengine\u001b[0m\u001b[0;34m)\u001b[0m\u001b[0;34m\u001b[0m\u001b[0;34m\u001b[0m\u001b[0m\n\u001b[0m\u001b[1;32m   1621\u001b[0m \u001b[0;34m\u001b[0m\u001b[0m\n\u001b[1;32m   1622\u001b[0m     \u001b[0;32mdef\u001b[0m \u001b[0mclose\u001b[0m\u001b[0;34m(\u001b[0m\u001b[0mself\u001b[0m\u001b[0;34m)\u001b[0m \u001b[0;34m->\u001b[0m \u001b[0;32mNone\u001b[0m\u001b[0;34m:\u001b[0m\u001b[0;34m\u001b[0m\u001b[0;34m\u001b[0m\u001b[0m\n",
            "\u001b[0;32m/usr/local/lib/python3.12/dist-packages/pandas/io/parsers/readers.py\u001b[0m in \u001b[0;36m_make_engine\u001b[0;34m(self, f, engine)\u001b[0m\n\u001b[1;32m   1878\u001b[0m                 \u001b[0;32mif\u001b[0m \u001b[0;34m\"b\"\u001b[0m \u001b[0;32mnot\u001b[0m \u001b[0;32min\u001b[0m \u001b[0mmode\u001b[0m\u001b[0;34m:\u001b[0m\u001b[0;34m\u001b[0m\u001b[0;34m\u001b[0m\u001b[0m\n\u001b[1;32m   1879\u001b[0m                     \u001b[0mmode\u001b[0m \u001b[0;34m+=\u001b[0m \u001b[0;34m\"b\"\u001b[0m\u001b[0;34m\u001b[0m\u001b[0;34m\u001b[0m\u001b[0m\n\u001b[0;32m-> 1880\u001b[0;31m             self.handles = get_handle(\n\u001b[0m\u001b[1;32m   1881\u001b[0m                 \u001b[0mf\u001b[0m\u001b[0;34m,\u001b[0m\u001b[0;34m\u001b[0m\u001b[0;34m\u001b[0m\u001b[0m\n\u001b[1;32m   1882\u001b[0m                 \u001b[0mmode\u001b[0m\u001b[0;34m,\u001b[0m\u001b[0;34m\u001b[0m\u001b[0;34m\u001b[0m\u001b[0m\n",
            "\u001b[0;32m/usr/local/lib/python3.12/dist-packages/pandas/io/common.py\u001b[0m in \u001b[0;36mget_handle\u001b[0;34m(path_or_buf, mode, encoding, compression, memory_map, is_text, errors, storage_options)\u001b[0m\n\u001b[1;32m    871\u001b[0m         \u001b[0;32mif\u001b[0m \u001b[0mioargs\u001b[0m\u001b[0;34m.\u001b[0m\u001b[0mencoding\u001b[0m \u001b[0;32mand\u001b[0m \u001b[0;34m\"b\"\u001b[0m \u001b[0;32mnot\u001b[0m \u001b[0;32min\u001b[0m \u001b[0mioargs\u001b[0m\u001b[0;34m.\u001b[0m\u001b[0mmode\u001b[0m\u001b[0;34m:\u001b[0m\u001b[0;34m\u001b[0m\u001b[0;34m\u001b[0m\u001b[0m\n\u001b[1;32m    872\u001b[0m             \u001b[0;31m# Encoding\u001b[0m\u001b[0;34m\u001b[0m\u001b[0;34m\u001b[0m\u001b[0m\n\u001b[0;32m--> 873\u001b[0;31m             handle = open(\n\u001b[0m\u001b[1;32m    874\u001b[0m                 \u001b[0mhandle\u001b[0m\u001b[0;34m,\u001b[0m\u001b[0;34m\u001b[0m\u001b[0;34m\u001b[0m\u001b[0m\n\u001b[1;32m    875\u001b[0m                 \u001b[0mioargs\u001b[0m\u001b[0;34m.\u001b[0m\u001b[0mmode\u001b[0m\u001b[0;34m,\u001b[0m\u001b[0;34m\u001b[0m\u001b[0;34m\u001b[0m\u001b[0m\n",
            "\u001b[0;31mFileNotFoundError\u001b[0m: [Errno 2] No such file or directory: 'Amazon-2_Raw.csv'"
          ]
        }
      ]
    },
    {
      "cell_type": "code",
      "source": [
        "Amazon.head()"
      ],
      "metadata": {
        "id": "RNXPMe_HFJHd"
      },
      "execution_count": null,
      "outputs": []
    },
    {
      "cell_type": "markdown",
      "source": [
        "Problema: Analisar produtos que são mais contribuem para o lucro de cada categória.\n",
        "\n",
        "\n",
        "\n",
        "\n"
      ],
      "metadata": {
        "id": "cq0C-aPhME_6"
      }
    },
    {
      "cell_type": "code",
      "source": [
        "Amazon.shape"
      ],
      "metadata": {
        "id": "O2-yWlyvOv6T"
      },
      "execution_count": null,
      "outputs": []
    },
    {
      "cell_type": "markdown",
      "source": [
        "#Limpeza de dados"
      ],
      "metadata": {
        "id": "a683_GYNtNpY"
      }
    },
    {
      "cell_type": "markdown",
      "source": [
        "**Análise inicial do data frame.**"
      ],
      "metadata": {
        "id": "t4JOLqs7GggC"
      }
    },
    {
      "cell_type": "code",
      "source": [
        "Amazon.info()"
      ],
      "metadata": {
        "id": "fOZO9dKTGnpN"
      },
      "execution_count": null,
      "outputs": []
    },
    {
      "cell_type": "markdown",
      "source": [
        "É possível verificar que não há valores nulos e que os tipos dos dados estão corretos."
      ],
      "metadata": {
        "id": "1LKs1_94IzLB"
      }
    },
    {
      "cell_type": "markdown",
      "source": [
        "**Verificação se há dados duplicados.**"
      ],
      "metadata": {
        "id": "sGCdabU4NYpd"
      }
    },
    {
      "cell_type": "code",
      "source": [
        "Amazon.duplicated()"
      ],
      "metadata": {
        "id": "M8XdOhYXNeEB"
      },
      "execution_count": null,
      "outputs": []
    },
    {
      "cell_type": "markdown",
      "source": [
        "Não tem dados duplicados."
      ],
      "metadata": {
        "id": "MGw_a-ZeNzNP"
      }
    },
    {
      "cell_type": "markdown",
      "source": [
        "**Analíse geral das variáveis quantitativas.**"
      ],
      "metadata": {
        "id": "Sr8ZRpIDN8Bv"
      }
    },
    {
      "cell_type": "code",
      "source": [
        "Amazon.describe()"
      ],
      "metadata": {
        "id": "j4vA3CgG0QXu"
      },
      "execution_count": null,
      "outputs": []
    },
    {
      "cell_type": "markdown",
      "source": [
        "Focando na média, valores máximos e mínimos em relação a 'quantidade' não se percebe nenhuma inconsistência. Porém, nas vendas e lucros é perceptível valores fora do padrão."
      ],
      "metadata": {
        "id": "FpJlxoHLU8-u"
      }
    },
    {
      "cell_type": "markdown",
      "source": [
        "**Observando as vendas.**"
      ],
      "metadata": {
        "id": "FyGW2Y-ZV3Hj"
      }
    },
    {
      "cell_type": "code",
      "source": [
        "Amazon[['Sales']].plot(kind='box')\n",
        "plt.show()"
      ],
      "metadata": {
        "id": "HSstt0xcWxgd"
      },
      "execution_count": null,
      "outputs": []
    },
    {
      "cell_type": "markdown",
      "source": [
        "Tem dois produtos especificamente que se destoam bastante do padrão."
      ],
      "metadata": {
        "id": "LuJzqrHSW9rJ"
      }
    },
    {
      "cell_type": "markdown",
      "source": [
        "Ordenando o data frame em relação a vendas para obter informações desses dois produtos. Podemos ver que são da categoria \"copiadoras\" e \"suprimentos\"."
      ],
      "metadata": {
        "id": "0Nti_WJfXcsw"
      }
    },
    {
      "cell_type": "code",
      "source": [
        "Amazon.sort_values(by=['Sales'], ascending=False).head(5)"
      ],
      "metadata": {
        "id": "41OfPK5eV_Gm"
      },
      "execution_count": null,
      "outputs": []
    },
    {
      "cell_type": "markdown",
      "source": [
        "**Entrando mais em detalhes na categoria de copiadoras.**"
      ],
      "metadata": {
        "id": "-i8gHfAwbl5K"
      }
    },
    {
      "cell_type": "code",
      "source": [
        "Copiadoras = Amazon.loc[Amazon['Category'] == 'Copiers']\n",
        "Copiadoras.sort_values(by=['Sales'], ascending=False).head(5)"
      ],
      "metadata": {
        "id": "KczTPjjWbm-Z"
      },
      "execution_count": null,
      "outputs": []
    },
    {
      "cell_type": "markdown",
      "source": [
        "Nas copiadoras a diferença é ainda maior, sendo a segunda mais vendida no mesmo ano com 3359.95 vendas. Então, esse dado provavelmente está incorreto."
      ],
      "metadata": {
        "id": "d0i1rjjkchZU"
      }
    },
    {
      "cell_type": "markdown",
      "source": [
        "Exlucindo dado do data frame."
      ],
      "metadata": {
        "id": "Csb3OR6TgiKr"
      }
    },
    {
      "cell_type": "code",
      "source": [
        "Amazon = Amazon[(Amazon['Sales'] < 13999.96)]"
      ],
      "metadata": {
        "id": "tbrM24gJgk1f"
      },
      "execution_count": null,
      "outputs": []
    },
    {
      "cell_type": "markdown",
      "source": [
        "**Em relação ao produto da categoria de suprimentos.**"
      ],
      "metadata": {
        "id": "w--xk4QkeB8L"
      }
    },
    {
      "cell_type": "code",
      "source": [
        "Suprimentos = Amazon.loc[Amazon['Category'] == 'Supplies']\n",
        "Suprimentos.sort_values(by=['Sales'], ascending=False).head(5)"
      ],
      "metadata": {
        "id": "IJUV8LXteTuH"
      },
      "execution_count": null,
      "outputs": []
    },
    {
      "cell_type": "markdown",
      "source": [
        "Por mais que o priemiro e segundo produto sejam o mesmo, com o primeiro tendo quase o dobro de vendas, esse dado não pode ser considerado falso. Já que as amostras são de anos diferntes, sendo um de 2011 e outro de 2013, o que pode explicar a diferença da quantidade de vendas do mesmo produto."
      ],
      "metadata": {
        "id": "Uo6-9T9Kftb8"
      }
    },
    {
      "cell_type": "markdown",
      "source": [
        "**Observando o lucro.**"
      ],
      "metadata": {
        "id": "I6KBX3iAhhLN"
      }
    },
    {
      "cell_type": "code",
      "source": [
        "Amazon[['Profit']].plot(kind='box')\n",
        "plt.show()"
      ],
      "metadata": {
        "id": "zP_an3lahuFa"
      },
      "execution_count": null,
      "outputs": []
    },
    {
      "cell_type": "code",
      "source": [
        "Amazon.sort_values(by=['Profit'], ascending=True).head(5)"
      ],
      "metadata": {
        "id": "dZh3Ifhsh7Y_"
      },
      "execution_count": null,
      "outputs": []
    },
    {
      "cell_type": "markdown",
      "source": [
        "O produto com pior lucro tem uma diferença muito grande do segundo. Por isso provavelmente é um dado incorreto."
      ],
      "metadata": {
        "id": "HyJkAQL_qaLs"
      }
    },
    {
      "cell_type": "markdown",
      "source": [
        "Removendo esse produto."
      ],
      "metadata": {
        "id": "LTKY_e3rqoWN"
      }
    },
    {
      "cell_type": "code",
      "source": [
        "Amazon = Amazon[(Amazon['Profit'] > -3399.98)]"
      ],
      "metadata": {
        "id": "tDq6u2yHqn2g"
      },
      "execution_count": null,
      "outputs": []
    },
    {
      "cell_type": "markdown",
      "source": [
        "Depois dessas alterações, o data frame ficou da seguinte forma."
      ],
      "metadata": {
        "id": "yQM5SCTgrO-T"
      }
    },
    {
      "cell_type": "code",
      "source": [
        "Amazon.describe()"
      ],
      "metadata": {
        "id": "I0vxiBVRrYrI"
      },
      "execution_count": null,
      "outputs": []
    },
    {
      "cell_type": "code",
      "source": [
        "Amazon[['Profit', \"Sales\"]].plot(kind='box')\n",
        "plt.show()"
      ],
      "metadata": {
        "id": "T1RK3QDnuEiY"
      },
      "execution_count": null,
      "outputs": []
    },
    {
      "cell_type": "markdown",
      "source": [
        "Os atributos \"Ship date\", \"Email ID\" e \"Geography\" não serão relevantes para analise do lucro, então vamos remover eles."
      ],
      "metadata": {
        "id": "zXR9lSIUvKdm"
      }
    },
    {
      "cell_type": "code",
      "source": [
        "del Amazon['Ship Date']\n",
        "del Amazon['EmailID']\n",
        "del Amazon['Geography']"
      ],
      "metadata": {
        "id": "g6nqwPgXvlsI"
      },
      "execution_count": null,
      "outputs": []
    },
    {
      "cell_type": "code",
      "source": [
        "Amazon.head()"
      ],
      "metadata": {
        "id": "Mf5xI6knv__j"
      },
      "execution_count": null,
      "outputs": []
    },
    {
      "cell_type": "markdown",
      "source": [
        "#Porcentagem de Lucro por categoria"
      ],
      "metadata": {
        "id": "9NazbbhZpW2L"
      }
    },
    {
      "cell_type": "code",
      "source": [
        "print(Amazon['Category'].unique())"
      ],
      "metadata": {
        "id": "1noIgBppp5yi"
      },
      "execution_count": null,
      "outputs": []
    },
    {
      "cell_type": "markdown",
      "source": [
        "Categoria"
      ],
      "metadata": {
        "id": "qXlao28aMrAE"
      }
    },
    {
      "cell_type": "markdown",
      "source": [
        "#Lucro Labels (Rótulos)"
      ],
      "metadata": {
        "id": "epKNVJffL5uQ"
      }
    },
    {
      "cell_type": "markdown",
      "source": [
        "Separando categoria 'Labels'\n"
      ],
      "metadata": {
        "id": "VOmeAS3qs5hg"
      }
    },
    {
      "cell_type": "code",
      "source": [
        "Labels = Amazon.loc[Amazon['Category'] == 'Labels']"
      ],
      "metadata": {
        "id": "_LFhgGcMs-1d"
      },
      "execution_count": null,
      "outputs": []
    },
    {
      "cell_type": "markdown",
      "source": [
        "criando uma coluna de porcentagem do lucro"
      ],
      "metadata": {
        "id": "ctGTv164u0FA"
      }
    },
    {
      "cell_type": "code",
      "source": [
        "Labels['% profit'] = (Labels['Profit'] / Labels['Profit'].sum()) * 100"
      ],
      "metadata": {
        "id": "BPx3hkjj0GTf"
      },
      "execution_count": null,
      "outputs": []
    },
    {
      "cell_type": "markdown",
      "source": [
        "Ordenando de forma descrecente"
      ],
      "metadata": {
        "id": "80nSKAFTMQ7z"
      }
    },
    {
      "cell_type": "code",
      "source": [
        "Labels = Labels.sort_values(by=['% profit'], ascending=False)"
      ],
      "metadata": {
        "id": "446EAComHtso"
      },
      "execution_count": null,
      "outputs": []
    },
    {
      "cell_type": "code",
      "source": [
        "Labels.head(10)"
      ],
      "metadata": {
        "id": "BcVlxQN7Ncxl"
      },
      "execution_count": null,
      "outputs": []
    },
    {
      "cell_type": "markdown",
      "source": [
        "A table acima mostra os maiores lucros em ordem"
      ],
      "metadata": {
        "id": "KlJFcLe8WZaY"
      }
    },
    {
      "cell_type": "code",
      "source": [
        "Labels.describe()"
      ],
      "metadata": {
        "id": "Lj0ha8foLU2o"
      },
      "execution_count": null,
      "outputs": []
    },
    {
      "cell_type": "markdown",
      "source": [
        "Dá para perceber que pela forma como o lucro esta destribuido que valores a cima de 1.7 são os mais significantes para o lucro. O suqe contribuem mais de 1,7%."
      ],
      "metadata": {
        "id": "qEt4EO8MLj6_"
      }
    },
    {
      "cell_type": "code",
      "source": [
        "Labels['% profit'].value_counts().plot(kind='pie', autopct='%1.1f%%', labels = Labels['Product Name'])\n",
        "plt.show()"
      ],
      "metadata": {
        "id": "89h-ZoYw2EZ1"
      },
      "execution_count": null,
      "outputs": []
    },
    {
      "cell_type": "markdown",
      "source": [
        "Gráfico de pizza dos lucros (Errado por enquanto)"
      ],
      "metadata": {
        "id": "aY5VJyHSMTXb"
      }
    },
    {
      "cell_type": "markdown",
      "source": [
        "#Lucro Furnishings (Móveis)"
      ],
      "metadata": {
        "id": "Cpr20PoPSBj2"
      }
    },
    {
      "cell_type": "markdown",
      "source": [
        "Separando categoria 'Furnishings'"
      ],
      "metadata": {
        "id": "33fCaQgcSICX"
      }
    },
    {
      "cell_type": "code",
      "source": [
        "Moveis = Amazon.loc[Amazon['Category'] == 'Furnishings']"
      ],
      "metadata": {
        "id": "wAxMbvbGVRiU"
      },
      "execution_count": null,
      "outputs": []
    },
    {
      "cell_type": "markdown",
      "source": [
        "criando uma coluna de porcentagem do lucro"
      ],
      "metadata": {
        "id": "AU2Pb37TVb_P"
      }
    },
    {
      "cell_type": "code",
      "source": [
        "Moveis['% profit'] = (Moveis['Profit'] / Moveis['Profit'].sum()) * 100"
      ],
      "metadata": {
        "id": "iloQ531ZV68S"
      },
      "execution_count": null,
      "outputs": []
    },
    {
      "cell_type": "markdown",
      "source": [
        "Ordenando de forma descrecente"
      ],
      "metadata": {
        "id": "qqHFS3hEWNov"
      }
    },
    {
      "cell_type": "code",
      "source": [
        "Moveis = Moveis.sort_values(by=['% profit'], ascending=False)"
      ],
      "metadata": {
        "id": "TIbsBRqIWRga"
      },
      "execution_count": null,
      "outputs": []
    },
    {
      "cell_type": "code",
      "source": [
        "Moveis.head(10)"
      ],
      "metadata": {
        "id": "9xI-E3fzWcrN"
      },
      "execution_count": null,
      "outputs": []
    },
    {
      "cell_type": "markdown",
      "source": [
        "A table acima mostra os maiores lucros em ordem"
      ],
      "metadata": {
        "id": "VyHKFBB6Wj2b"
      }
    },
    {
      "cell_type": "code",
      "source": [
        "Moveis.describe()"
      ],
      "metadata": {
        "id": "7zuq5Z5yWl-D"
      },
      "execution_count": null,
      "outputs": []
    },
    {
      "cell_type": "markdown",
      "source": [
        "Dá para perceber que nessa categoria os lucros são bem mais regulares, apenas se destacando os de 2.5 para cima, ou 2,5%."
      ],
      "metadata": {
        "id": "upsAiepwWqzH"
      }
    },
    {
      "cell_type": "markdown",
      "source": [
        "Nesse casso como os valores progridem de forma bem constante não faz sentido colcoar em uma grafico, pois ele seria de forma bem divida e de varios elementos."
      ],
      "metadata": {
        "id": "BO7NXW92X0NO"
      }
    },
    {
      "cell_type": "markdown",
      "source": [
        "#Lucro Art (Arte)"
      ],
      "metadata": {
        "id": "9MGPTYUqYWY-"
      }
    },
    {
      "cell_type": "markdown",
      "source": [
        "Separando categoria 'Art'"
      ],
      "metadata": {
        "id": "0h0Ubfc1YhYO"
      }
    },
    {
      "cell_type": "code",
      "source": [
        "Arte = Amazon.loc[Amazon['Category'] == 'Art']"
      ],
      "metadata": {
        "id": "WuSaq7CccaSq"
      },
      "execution_count": null,
      "outputs": []
    },
    {
      "cell_type": "markdown",
      "source": [
        "criando uma coluna de porcentagem do lucro"
      ],
      "metadata": {
        "id": "-4S2C-N5chBk"
      }
    },
    {
      "cell_type": "code",
      "source": [
        "Arte['% profit'] = (Arte['Profit'] / Arte['Profit'].sum()) * 100"
      ],
      "metadata": {
        "id": "0hXDjrOackEj"
      },
      "execution_count": null,
      "outputs": []
    },
    {
      "cell_type": "markdown",
      "source": [
        "Ordenando de forma descrecente"
      ],
      "metadata": {
        "id": "XUZ3o72UcrOQ"
      }
    },
    {
      "cell_type": "code",
      "source": [
        "Arte = Arte.sort_values(by=['% profit'], ascending=False)"
      ],
      "metadata": {
        "id": "ms_9YqGucxtU"
      },
      "execution_count": null,
      "outputs": []
    },
    {
      "cell_type": "code",
      "source": [
        "Arte.head(10)"
      ],
      "metadata": {
        "id": "5nXmL_Jqc2Kq"
      },
      "execution_count": null,
      "outputs": []
    },
    {
      "cell_type": "markdown",
      "source": [
        "A table acima mostra os maiores lucros em ordem"
      ],
      "metadata": {
        "id": "wtmkR6tsc7CE"
      }
    },
    {
      "cell_type": "code",
      "source": [
        "Arte.describe()"
      ],
      "metadata": {
        "id": "V5ZMfo37dAma"
      },
      "execution_count": null,
      "outputs": []
    },
    {
      "cell_type": "markdown",
      "source": [
        "Essa categoria tem valores constantes que crescem de maneira lenta. Tendo um aumento mais brusco a partir de 3,3%."
      ],
      "metadata": {
        "id": "T2Z9p1i6dCY1"
      }
    },
    {
      "cell_type": "markdown",
      "source": [
        "#Lucro Phones (Telefones)"
      ],
      "metadata": {
        "id": "9p3lmTe1fS89"
      }
    },
    {
      "cell_type": "markdown",
      "source": [
        "Separando categoria 'Phones'"
      ],
      "metadata": {
        "id": "CWfaz24Ofod1"
      }
    },
    {
      "cell_type": "code",
      "source": [
        "Telefones = Amazon.loc[Amazon['Category'] == 'Phones']"
      ],
      "metadata": {
        "id": "oMkG5pHYfrBm"
      },
      "execution_count": null,
      "outputs": []
    },
    {
      "cell_type": "markdown",
      "source": [
        "criando uma coluna de porcentagem do lucro"
      ],
      "metadata": {
        "id": "cUenXVnZf_Yo"
      }
    },
    {
      "cell_type": "code",
      "source": [
        "Telefones['% profit'] = (Telefones['Profit'] / Telefones['Profit'].sum()) * 100"
      ],
      "metadata": {
        "id": "patX83Pif_1e"
      },
      "execution_count": null,
      "outputs": []
    },
    {
      "cell_type": "markdown",
      "source": [
        "Ordenando de forma descrecente"
      ],
      "metadata": {
        "id": "gtzLaZCLgJvc"
      }
    },
    {
      "cell_type": "code",
      "source": [
        "Telefones = Telefones.sort_values(by=['% profit'], ascending=False)"
      ],
      "metadata": {
        "id": "4qNasnt9gRvw"
      },
      "execution_count": null,
      "outputs": []
    },
    {
      "cell_type": "code",
      "source": [
        "Telefones.head(10)"
      ],
      "metadata": {
        "id": "-uU52jOxgVV9"
      },
      "execution_count": null,
      "outputs": []
    },
    {
      "cell_type": "markdown",
      "source": [
        "A table acima mostra os maiores lucros em ordem"
      ],
      "metadata": {
        "id": "FJaOqMJIgk5K"
      }
    },
    {
      "cell_type": "code",
      "source": [
        "Telefones.describe()"
      ],
      "metadata": {
        "id": "bV-FYoaUgoIj"
      },
      "execution_count": null,
      "outputs": []
    },
    {
      "cell_type": "markdown",
      "source": [
        "Essa categoria tem valores constantes que crescem de maneira lenta."
      ],
      "metadata": {
        "id": "gDZ-7lpfgrtH"
      }
    },
    {
      "cell_type": "markdown",
      "source": [
        "#Lucro Binders (Fichários)"
      ],
      "metadata": {
        "id": "8cvxLxcNhYl1"
      }
    },
    {
      "cell_type": "markdown",
      "source": [
        "Separando categoria 'Phones'"
      ],
      "metadata": {
        "id": "pCelQyCahfip"
      }
    },
    {
      "cell_type": "code",
      "source": [
        "Ficharios = Amazon.loc[Amazon['Category'] == 'Binders']"
      ],
      "metadata": {
        "id": "6ZId4YaRhiU1"
      },
      "execution_count": null,
      "outputs": []
    },
    {
      "cell_type": "markdown",
      "source": [
        "criando uma coluna de porcentagem do lucro"
      ],
      "metadata": {
        "id": "nhBUyrB9hn2N"
      }
    },
    {
      "cell_type": "code",
      "source": [
        "Ficharios['% profit'] = (Ficharios['Profit'] / Ficharios['Profit'].sum()) * 100"
      ],
      "metadata": {
        "id": "k823CDi4hpbn"
      },
      "execution_count": null,
      "outputs": []
    },
    {
      "cell_type": "markdown",
      "source": [
        "Ordenando de forma descrecente"
      ],
      "metadata": {
        "id": "4zIsZa72h2gy"
      }
    },
    {
      "cell_type": "code",
      "source": [
        "Ficharios = Ficharios.sort_values(by=['% profit'], ascending=False)"
      ],
      "metadata": {
        "id": "cCAYgDuth7fN"
      },
      "execution_count": null,
      "outputs": []
    },
    {
      "cell_type": "code",
      "source": [
        "Ficharios.head(10)"
      ],
      "metadata": {
        "id": "TJATeeY7iBQR"
      },
      "execution_count": null,
      "outputs": []
    },
    {
      "cell_type": "markdown",
      "source": [
        "A table acima mostra os maiores lucros em ordem"
      ],
      "metadata": {
        "id": "xbufvkmoiM0b"
      }
    },
    {
      "cell_type": "code",
      "source": [
        "Ficharios.describe()"
      ],
      "metadata": {
        "id": "BoZ5ns7EiO6e"
      },
      "execution_count": null,
      "outputs": []
    },
    {
      "cell_type": "markdown",
      "source": [
        "É possível perceber uma variação muito grande a partir de 5.4%, assim os 5 primeiros itens representam uma grande parte do lucro dessa categória."
      ],
      "metadata": {
        "id": "IGXoUycXiYaj"
      }
    },
    {
      "cell_type": "markdown",
      "source": [
        "#Appliances (Eletrodomésticos)"
      ],
      "metadata": {
        "id": "1BgHXdK5jtTL"
      }
    },
    {
      "cell_type": "markdown",
      "source": [
        "Separando categoria 'Appliances'"
      ],
      "metadata": {
        "id": "ioPMLNqOjyFa"
      }
    },
    {
      "cell_type": "code",
      "source": [
        "Eletro = Amazon.loc[Amazon['Category'] == 'Appliances']"
      ],
      "metadata": {
        "id": "3TaMSrPhj3d6"
      },
      "execution_count": null,
      "outputs": []
    },
    {
      "cell_type": "markdown",
      "source": [
        "criando uma coluna de porcentagem do lucro"
      ],
      "metadata": {
        "id": "FC3CjRG1j-jq"
      }
    },
    {
      "cell_type": "code",
      "source": [
        "Eletro['% profit'] = (Eletro['Profit'] / Eletro['Profit'].sum()) * 100"
      ],
      "metadata": {
        "id": "jfJ_Q4cTkA8i"
      },
      "execution_count": null,
      "outputs": []
    },
    {
      "cell_type": "markdown",
      "source": [
        "Ordenando de forma descrecente"
      ],
      "metadata": {
        "id": "VS8ZxmcmkJtt"
      }
    },
    {
      "cell_type": "code",
      "source": [
        "Eletro = Eletro.sort_values(by=['% profit'], ascending=False)"
      ],
      "metadata": {
        "id": "UE0x3yyikKTX"
      },
      "execution_count": null,
      "outputs": []
    },
    {
      "cell_type": "code",
      "source": [
        "Eletro.head(10)"
      ],
      "metadata": {
        "id": "8eoIUTFGkPDA"
      },
      "execution_count": null,
      "outputs": []
    },
    {
      "cell_type": "markdown",
      "source": [
        "A table acima mostra os maiores lucros em ordem"
      ],
      "metadata": {
        "id": "xHpuW8bMkVrl"
      }
    },
    {
      "cell_type": "code",
      "source": [
        "Eletro.describe()"
      ],
      "metadata": {
        "id": "RjrPTjbLkYFW"
      },
      "execution_count": null,
      "outputs": []
    },
    {
      "cell_type": "markdown",
      "source": [
        "Uma categoria consistente que aumenta os valores de maneira lenta, não tendo um elemento tão significativo para o lucro"
      ],
      "metadata": {
        "id": "YcxPaJlwkkyB"
      }
    },
    {
      "cell_type": "markdown",
      "source": [
        "#Lucro Tables (Mesas)"
      ],
      "metadata": {
        "id": "TpaJEsK5lGJP"
      }
    },
    {
      "cell_type": "markdown",
      "source": [
        "Separando categoria 'Tables'"
      ],
      "metadata": {
        "id": "P3c-XBVNlNUR"
      }
    },
    {
      "cell_type": "code",
      "source": [
        "Mesas = Amazon.loc[Amazon['Category'] == 'Tables']"
      ],
      "metadata": {
        "id": "d1IayOZDlSjm"
      },
      "execution_count": null,
      "outputs": []
    },
    {
      "cell_type": "markdown",
      "source": [
        "criando uma coluna de porcentagem do lucro"
      ],
      "metadata": {
        "id": "kA307kAolX1D"
      }
    },
    {
      "cell_type": "code",
      "source": [
        "Mesas['% profit'] = (Mesas['Profit'] / Mesas['Profit'].sum()) * 100"
      ],
      "metadata": {
        "id": "uq7X79srlYfc"
      },
      "execution_count": null,
      "outputs": []
    },
    {
      "cell_type": "markdown",
      "source": [
        "Ordenando de forma descrecente"
      ],
      "metadata": {
        "id": "fhasUcLPlyvf"
      }
    },
    {
      "cell_type": "code",
      "source": [
        "Mesas = Mesas.sort_values(by=['% profit'], ascending=False)\n",
        "Mesas.head(10)"
      ],
      "metadata": {
        "id": "aj5WdYtJlzTn"
      },
      "execution_count": null,
      "outputs": []
    },
    {
      "cell_type": "markdown",
      "source": [
        "A table acima mostra os maiores lucros em ordem"
      ],
      "metadata": {
        "id": "_UqIEJJ0m5uo"
      }
    },
    {
      "cell_type": "code",
      "source": [
        "Mesas.describe()"
      ],
      "metadata": {
        "id": "a9EGdaAMm-k7"
      },
      "execution_count": null,
      "outputs": []
    },
    {
      "cell_type": "markdown",
      "source": [
        "Os dois primeiros elementos fazem parte da maior parte do lucro desas categoria."
      ],
      "metadata": {
        "id": "8IMKJYbvnU_H"
      }
    },
    {
      "cell_type": "markdown",
      "source": [
        "#Lucro Storage (Amazenamento)"
      ],
      "metadata": {
        "id": "jbUpgBgJoAUe"
      }
    },
    {
      "cell_type": "markdown",
      "source": [
        "Separando categoria 'Storage'"
      ],
      "metadata": {
        "id": "QUw3pOk4oJue"
      }
    },
    {
      "cell_type": "code",
      "source": [
        "Armazenamento = Amazon.loc[Amazon['Category'] == 'Storage']"
      ],
      "metadata": {
        "id": "a5FrBF4ZoLWg"
      },
      "execution_count": null,
      "outputs": []
    },
    {
      "cell_type": "markdown",
      "source": [
        "criando uma coluna de porcentagem do lucro"
      ],
      "metadata": {
        "id": "COze1GHHoTWi"
      }
    },
    {
      "cell_type": "code",
      "source": [
        "Armazenamento['% profit'] = (Armazenamento['Profit'] / Armazenamento['Profit'].sum()) * 100"
      ],
      "metadata": {
        "id": "9f6pT6lioTpK"
      },
      "execution_count": null,
      "outputs": []
    },
    {
      "cell_type": "markdown",
      "source": [
        "Ordenando de forma descrecente"
      ],
      "metadata": {
        "id": "ILqPmJ1oodOv"
      }
    },
    {
      "cell_type": "code",
      "source": [
        "Armazenamento = Armazenamento.sort_values(by=['% profit'], ascending=False)\n",
        "Armazenamento.head(10)"
      ],
      "metadata": {
        "id": "0fZGbWfhodrU"
      },
      "execution_count": null,
      "outputs": []
    },
    {
      "cell_type": "markdown",
      "source": [
        "A table acima mostra os maiores lucros em ordem"
      ],
      "metadata": {
        "id": "4JmF6U9SonKp"
      }
    },
    {
      "cell_type": "code",
      "source": [
        "Armazenamento.describe()"
      ],
      "metadata": {
        "id": "NDVA3n75oqpb"
      },
      "execution_count": null,
      "outputs": []
    },
    {
      "cell_type": "markdown",
      "source": [
        "Uma cateogria bem consistente com valores aumentando de maneira lenta."
      ],
      "metadata": {
        "id": "b8Z3_c_yovQQ"
      }
    },
    {
      "cell_type": "markdown",
      "source": [
        "#Lucro Accessories (Acessórios)"
      ],
      "metadata": {
        "id": "ba0gcdlHp_g1"
      }
    },
    {
      "cell_type": "markdown",
      "source": [
        "Separando categoria 'Accessories'"
      ],
      "metadata": {
        "id": "ytVkV6f7qG_t"
      }
    },
    {
      "cell_type": "code",
      "source": [
        "Acessorios = Amazon.loc[Amazon['Category'] == 'Accessories']"
      ],
      "metadata": {
        "id": "IZBLfY-PqLHn"
      },
      "execution_count": null,
      "outputs": []
    },
    {
      "cell_type": "markdown",
      "source": [
        "criando uma coluna de porcentagem do lucro"
      ],
      "metadata": {
        "id": "IpNBbfjBqR0q"
      }
    },
    {
      "cell_type": "code",
      "source": [
        "Acessorios['% profit'] = (Acessorios['Profit'] / Acessorios['Profit'].sum()) * 100"
      ],
      "metadata": {
        "id": "ctD1j2n3qSUj"
      },
      "execution_count": null,
      "outputs": []
    },
    {
      "cell_type": "markdown",
      "source": [
        "Ordenando de forma descrecente"
      ],
      "metadata": {
        "id": "rPd1U59uqYzq"
      }
    },
    {
      "cell_type": "code",
      "source": [
        "Acessorios = Acessorios.sort_values(by=['% profit'], ascending=False)\n",
        "Acessorios.head(10)"
      ],
      "metadata": {
        "id": "-To0VCSZqZG8"
      },
      "execution_count": null,
      "outputs": []
    },
    {
      "cell_type": "markdown",
      "source": [
        "A table acima mostra os maiores lucros em ordem"
      ],
      "metadata": {
        "id": "L7e2y50esd1o"
      }
    },
    {
      "cell_type": "code",
      "source": [
        "Acessorios.describe()"
      ],
      "metadata": {
        "id": "0SVDCk1qsi_M"
      },
      "execution_count": null,
      "outputs": []
    },
    {
      "cell_type": "markdown",
      "source": [
        "Cateogria bem consistente com valores que aumentam de manira lenta."
      ],
      "metadata": {
        "id": "C7SeMJLlspjy"
      }
    },
    {
      "cell_type": "markdown",
      "source": [
        "#Lucro Paper (Papel)"
      ],
      "metadata": {
        "id": "cyedTrWZtJbV"
      }
    },
    {
      "cell_type": "markdown",
      "source": [
        "Separando categoria 'Paper'"
      ],
      "metadata": {
        "id": "ZhngszMDtOP-"
      }
    },
    {
      "cell_type": "code",
      "source": [
        "Papel = Amazon.loc[Amazon['Category'] == 'Paper']"
      ],
      "metadata": {
        "id": "HkuyLM21tTh4"
      },
      "execution_count": null,
      "outputs": []
    },
    {
      "cell_type": "markdown",
      "source": [
        "criando uma coluna de porcentagem do lucro"
      ],
      "metadata": {
        "id": "Padbd_3-tfuU"
      }
    },
    {
      "cell_type": "code",
      "source": [
        "Papel['% profit'] = (Papel['Profit'] / Papel['Profit'].sum()) * 100"
      ],
      "metadata": {
        "id": "9XUJshc9tgIH"
      },
      "execution_count": null,
      "outputs": []
    },
    {
      "cell_type": "markdown",
      "source": [
        "Ordenando de forma descrecente"
      ],
      "metadata": {
        "id": "QCGCrh2_tn40"
      }
    },
    {
      "cell_type": "code",
      "source": [
        "Papel = Papel.sort_values(by=['% profit'], ascending=False)\n",
        "Papel.head(10)"
      ],
      "metadata": {
        "id": "2sRyaxKotoJj"
      },
      "execution_count": null,
      "outputs": []
    },
    {
      "cell_type": "markdown",
      "source": [
        "A table acima mostra os maiores lucros em ordem"
      ],
      "metadata": {
        "id": "SVZA7HUJt9t1"
      }
    },
    {
      "cell_type": "code",
      "source": [
        "Papel.describe()"
      ],
      "metadata": {
        "id": "PyJ2lyMcuAtY"
      },
      "execution_count": null,
      "outputs": []
    },
    {
      "cell_type": "markdown",
      "source": [
        "Cateogria bem consistente com valores que aumentam de manira lenta."
      ],
      "metadata": {
        "id": "ca5W15LhuGJY"
      }
    },
    {
      "cell_type": "markdown",
      "source": [
        "#Lucro Chairs (Cadeiras)"
      ],
      "metadata": {
        "id": "VSAohsiYus3O"
      }
    },
    {
      "cell_type": "markdown",
      "source": [
        "Separando categoria 'Chairs'"
      ],
      "metadata": {
        "id": "HBXTRGWEuy9-"
      }
    },
    {
      "cell_type": "code",
      "source": [
        "Cadeiras = Amazon.loc[Amazon['Category'] == 'Chairs']"
      ],
      "metadata": {
        "id": "vSJQMODKu5_A"
      },
      "execution_count": null,
      "outputs": []
    },
    {
      "cell_type": "markdown",
      "source": [
        "criando uma coluna de porcentagem do lucro"
      ],
      "metadata": {
        "id": "HFWhj76zu9bs"
      }
    },
    {
      "cell_type": "code",
      "source": [
        "Cadeiras['% profit'] = (Cadeiras['Profit'] / Cadeiras['Profit'].sum()) * 100"
      ],
      "metadata": {
        "id": "ulJM4ylIvBLA"
      },
      "execution_count": null,
      "outputs": []
    },
    {
      "cell_type": "markdown",
      "source": [
        "Ordenando de forma descrecente"
      ],
      "metadata": {
        "id": "GDr9JWYyvImK"
      }
    },
    {
      "cell_type": "code",
      "source": [
        "Cadeiras = Cadeiras.sort_values(by=['% profit'], ascending=False)\n",
        "Cadeiras.head(10)"
      ],
      "metadata": {
        "id": "Q6GDUhK3vI-u"
      },
      "execution_count": null,
      "outputs": []
    },
    {
      "cell_type": "markdown",
      "source": [
        "A table acima mostra os maiores lucros em ordem"
      ],
      "metadata": {
        "id": "y4hBkwUzvQz9"
      }
    },
    {
      "cell_type": "code",
      "source": [
        "Cadeiras.describe()"
      ],
      "metadata": {
        "id": "8qE0Ze1dvSrH"
      },
      "execution_count": null,
      "outputs": []
    },
    {
      "cell_type": "markdown",
      "source": [
        "Essa categória tem uma consistencia média, com os três primeiros elemntos representando a maior parte de lucro, sendo 17% do lucro"
      ],
      "metadata": {
        "id": "Hjev5LTyvVnc"
      }
    },
    {
      "cell_type": "markdown",
      "source": [
        "#Lucro Fasteners (Fixadores)"
      ],
      "metadata": {
        "id": "oSeY-La5wKg6"
      }
    },
    {
      "cell_type": "markdown",
      "source": [
        "Separando categoria 'Fasteners'"
      ],
      "metadata": {
        "id": "sIM8BhuAwQMo"
      }
    },
    {
      "cell_type": "code",
      "source": [
        "Fixadores = Amazon.loc[Amazon['Category'] == 'Fasteners']"
      ],
      "metadata": {
        "id": "Wd6Dz397wU_h"
      },
      "execution_count": null,
      "outputs": []
    },
    {
      "cell_type": "markdown",
      "source": [
        "criando uma coluna de porcentagem do lucro"
      ],
      "metadata": {
        "id": "4m6EMzTUwZ7V"
      }
    },
    {
      "cell_type": "code",
      "source": [
        "Fixadores['% profit'] = (Fixadores['Profit'] / Fixadores['Profit'].sum()) * 100"
      ],
      "metadata": {
        "id": "YWudlj2mwb8h"
      },
      "execution_count": null,
      "outputs": []
    },
    {
      "cell_type": "markdown",
      "source": [
        "Ordenando de forma descrecente"
      ],
      "metadata": {
        "id": "RcUehaWZwicn"
      }
    },
    {
      "cell_type": "code",
      "source": [
        "Fixadores = Fixadores.sort_values(by=['% profit'], ascending=False)\n",
        "Fixadores.head(10)"
      ],
      "metadata": {
        "id": "QvXlqtUNwjDO"
      },
      "execution_count": null,
      "outputs": []
    },
    {
      "cell_type": "markdown",
      "source": [
        "A table acima mostra os maiores lucros em ordem"
      ],
      "metadata": {
        "id": "z6Tx86aFwsRn"
      }
    },
    {
      "cell_type": "code",
      "source": [
        "Fixadores.describe()"
      ],
      "metadata": {
        "id": "gd4CuTKowsld"
      },
      "execution_count": null,
      "outputs": []
    },
    {
      "cell_type": "markdown",
      "source": [
        "Essa categoria tem uma boa consistencia, com os valores crescendo de maneira lenta"
      ],
      "metadata": {
        "id": "tBBH14kwwy1v"
      }
    },
    {
      "cell_type": "markdown",
      "source": [
        "#Lucro Supplies (Suprimentos)"
      ],
      "metadata": {
        "id": "qxLzbmaxxQT8"
      }
    },
    {
      "cell_type": "markdown",
      "source": [
        "Separando categoria 'Supplies'"
      ],
      "metadata": {
        "id": "4jtFq-6MxVU7"
      }
    },
    {
      "cell_type": "code",
      "source": [
        "Suprimentos = Amazon.loc[Amazon['Category'] == 'Supplies']"
      ],
      "metadata": {
        "id": "9LY2hgHcxZxF"
      },
      "execution_count": null,
      "outputs": []
    },
    {
      "cell_type": "markdown",
      "source": [
        "criando uma coluna de porcentagem do lucro"
      ],
      "metadata": {
        "id": "YK1BiiOBxhvF"
      }
    },
    {
      "cell_type": "code",
      "source": [
        "Suprimentos['% profit'] = (Suprimentos['Profit'] / Suprimentos['Profit'].sum()) * 100"
      ],
      "metadata": {
        "id": "gxgubPZAxiTk"
      },
      "execution_count": null,
      "outputs": []
    },
    {
      "cell_type": "markdown",
      "source": [
        "Ordenando de forma descrecente"
      ],
      "metadata": {
        "id": "57-fJL1bxnJm"
      }
    },
    {
      "cell_type": "code",
      "source": [
        "Suprimentos = Suprimentos.sort_values(by=['% profit'], ascending=False)\n",
        "Suprimentos.head(10)"
      ],
      "metadata": {
        "id": "voqgE2xzxnne"
      },
      "execution_count": null,
      "outputs": []
    },
    {
      "cell_type": "markdown",
      "source": [
        "A table acima mostra os maiores lucros em ordem"
      ],
      "metadata": {
        "id": "uRvSBGcNxtcd"
      }
    },
    {
      "cell_type": "code",
      "source": [
        "Suprimentos.describe()"
      ],
      "metadata": {
        "id": "vWsa7eWhxwFh"
      },
      "execution_count": null,
      "outputs": []
    },
    {
      "cell_type": "markdown",
      "source": [
        "Consistencia muito baixa, os ultimos dois valores representando a maior parte do lucro, e tendo um item com um lucro negativo muito alto."
      ],
      "metadata": {
        "id": "NjUU0BUhxzEb"
      }
    },
    {
      "cell_type": "markdown",
      "source": [
        "#Lucro Envelopes (Envelopes)"
      ],
      "metadata": {
        "id": "Zwnp0kpOye_F"
      }
    },
    {
      "cell_type": "markdown",
      "source": [
        "Separando categoria 'Supplies'"
      ],
      "metadata": {
        "id": "aa_XSO6Pykx6"
      }
    },
    {
      "cell_type": "code",
      "source": [
        "Envelopes = Amazon.loc[Amazon['Category'] == 'Envelopes']"
      ],
      "metadata": {
        "id": "m24xbD7-yn2m"
      },
      "execution_count": null,
      "outputs": []
    },
    {
      "cell_type": "markdown",
      "source": [
        "criando uma coluna de porcentagem do lucro"
      ],
      "metadata": {
        "id": "gyosV7Buyssw"
      }
    },
    {
      "cell_type": "code",
      "source": [
        "Envelopes['% profit'] = (Envelopes['Profit'] / Envelopes['Profit'].sum()) * 100"
      ],
      "metadata": {
        "id": "GYqxUWM9ytOV"
      },
      "execution_count": null,
      "outputs": []
    },
    {
      "cell_type": "markdown",
      "source": [
        "Ordenando de forma descrecente"
      ],
      "metadata": {
        "id": "1CNuKizwyyzY"
      }
    },
    {
      "cell_type": "code",
      "source": [
        "Envelopes = Envelopes.sort_values(by=['% profit'], ascending=False)\n",
        "Envelopes.head(10)"
      ],
      "metadata": {
        "id": "Q5kp7n6pyzK7"
      },
      "execution_count": null,
      "outputs": []
    },
    {
      "cell_type": "markdown",
      "source": [
        "A table acima mostra os maiores lucros em ordem"
      ],
      "metadata": {
        "id": "N4Sev3ouy6iL"
      }
    },
    {
      "cell_type": "code",
      "source": [
        "Envelopes.describe()"
      ],
      "metadata": {
        "id": "EkaAz_j1y7DS"
      },
      "execution_count": null,
      "outputs": []
    },
    {
      "cell_type": "markdown",
      "source": [
        "Consistencia baixa pois o primeiro item representa 10% do lucro da categoria, que ainda possui valores mais discrepantes até o quarto item."
      ],
      "metadata": {
        "id": "CvHi2CamzAUr"
      }
    },
    {
      "cell_type": "markdown",
      "source": [
        "#Lucro Copiers (Copiadoras)"
      ],
      "metadata": {
        "id": "pkZaUBCizoej"
      }
    },
    {
      "cell_type": "markdown",
      "source": [
        "Separando categoria 'Copiers'"
      ],
      "metadata": {
        "id": "vwFsmlZjzsDA"
      }
    },
    {
      "cell_type": "code",
      "source": [
        "Copiadoras = Amazon.loc[Amazon['Category'] == 'Copiers']"
      ],
      "metadata": {
        "id": "lEtSqwrKzuvw"
      },
      "execution_count": null,
      "outputs": []
    },
    {
      "cell_type": "markdown",
      "source": [
        "criando uma coluna de porcentagem do lucro"
      ],
      "metadata": {
        "id": "ICxCEhUZzzeS"
      }
    },
    {
      "cell_type": "code",
      "source": [
        "Copiadoras['% profit'] = (Copiadoras['Profit'] / Copiadoras['Profit'].sum()) * 100"
      ],
      "metadata": {
        "id": "i8QH3kwOz1mi"
      },
      "execution_count": null,
      "outputs": []
    },
    {
      "cell_type": "markdown",
      "source": [
        "Ordenando de forma descrecente"
      ],
      "metadata": {
        "id": "HlxzoBBLz7Xg"
      }
    },
    {
      "cell_type": "code",
      "source": [
        "Copiadoras = Copiadoras.sort_values(by=['% profit'], ascending=False)\n",
        "Copiadoras.head(10)"
      ],
      "metadata": {
        "id": "ACPl42Boz7rv"
      },
      "execution_count": null,
      "outputs": []
    },
    {
      "cell_type": "markdown",
      "source": [
        "A table acima mostra os maiores lucros em ordem"
      ],
      "metadata": {
        "id": "t3o75Unnz_SF"
      }
    },
    {
      "cell_type": "code",
      "source": [
        "Copiadoras.describe()"
      ],
      "metadata": {
        "id": "741SzCX70L3E"
      },
      "execution_count": null,
      "outputs": []
    },
    {
      "cell_type": "markdown",
      "source": [
        "Categoria muito inconsitente com os dois primeiros itens representando aproximadamente 20% do lucro da categoria."
      ],
      "metadata": {
        "id": "r24ze9HJ0RpD"
      }
    },
    {
      "cell_type": "markdown",
      "source": [
        "#Lucro Bookcases (Estantes)"
      ],
      "metadata": {
        "id": "PZ2k1g0b0ttK"
      }
    },
    {
      "cell_type": "markdown",
      "source": [
        "Separando categoria 'Bookcases'"
      ],
      "metadata": {
        "id": "52d8GED90y1R"
      }
    },
    {
      "cell_type": "code",
      "source": [
        "Estantes = Amazon.loc[Amazon['Category'] == 'Bookcases']"
      ],
      "metadata": {
        "id": "c6TTGPtq01sG"
      },
      "execution_count": null,
      "outputs": []
    },
    {
      "cell_type": "markdown",
      "source": [
        "criando uma coluna de porcentagem do lucro"
      ],
      "metadata": {
        "id": "NW8RpUbR06js"
      }
    },
    {
      "cell_type": "code",
      "source": [
        "Estantes['% profit'] = (Estantes['Profit'] / Estantes['Profit'].sum()) * 100"
      ],
      "metadata": {
        "id": "iSZSNFTP08um"
      },
      "execution_count": null,
      "outputs": []
    },
    {
      "cell_type": "markdown",
      "source": [
        "Ordenando de forma descrecente"
      ],
      "metadata": {
        "id": "q9doNJSg1FCs"
      }
    },
    {
      "cell_type": "code",
      "source": [
        "Estantes = Estantes.sort_values(by=['% profit'], ascending=False)\n",
        "Estantes.head(10)"
      ],
      "metadata": {
        "id": "rauRWBqd1FXK"
      },
      "execution_count": null,
      "outputs": []
    },
    {
      "cell_type": "markdown",
      "source": [
        "A table acima mostra os maiores lucros em ordem"
      ],
      "metadata": {
        "id": "ynnRyJgS1I1X"
      }
    },
    {
      "cell_type": "code",
      "source": [
        "Estantes.describe()"
      ],
      "metadata": {
        "id": "ho6nagnI1Lrb"
      },
      "execution_count": null,
      "outputs": []
    },
    {
      "cell_type": "markdown",
      "source": [
        "Uma categoria bem inconsistente onde os porudots em lucros positivos e negativos bem assentuados e os valores de lucro mudando de maneira mais drástica"
      ],
      "metadata": {
        "id": "FAuzA2DT1Siw"
      }
    },
    {
      "cell_type": "markdown",
      "source": [
        "#Lucro Machines (Máquinas)"
      ],
      "metadata": {
        "id": "lHKzX98h1oKx"
      }
    },
    {
      "cell_type": "markdown",
      "source": [
        "Separando categoria 'Machines'"
      ],
      "metadata": {
        "id": "8O9GHV8d1v2L"
      }
    },
    {
      "cell_type": "code",
      "source": [
        "Maquinas = Amazon.loc[Amazon['Category'] == 'Machines']"
      ],
      "metadata": {
        "id": "2tEC_pEs1zlE"
      },
      "execution_count": null,
      "outputs": []
    },
    {
      "cell_type": "markdown",
      "source": [
        "criando uma coluna de porcentagem do lucro"
      ],
      "metadata": {
        "id": "szdmP7V-1884"
      }
    },
    {
      "cell_type": "code",
      "source": [
        "Maquinas['% profit'] = (Maquinas['Profit'] / Maquinas['Profit'].sum()) * 100"
      ],
      "metadata": {
        "id": "ltw8rR5T1_Q1"
      },
      "execution_count": null,
      "outputs": []
    },
    {
      "cell_type": "markdown",
      "source": [
        "Ordenando de forma descrecente"
      ],
      "metadata": {
        "id": "NouRWyD12C7F"
      }
    },
    {
      "cell_type": "code",
      "source": [
        "Maquinas = Maquinas.sort_values(by=['% profit'], ascending=False)\n",
        "Maquinas.head(10)"
      ],
      "metadata": {
        "id": "rS6db7xb2FcT"
      },
      "execution_count": null,
      "outputs": []
    },
    {
      "cell_type": "markdown",
      "source": [
        "A table acima mostra os maiores lucros em ordem"
      ],
      "metadata": {
        "id": "B6nDKurR2LVW"
      }
    },
    {
      "cell_type": "code",
      "source": [
        "Maquinas.describe()"
      ],
      "metadata": {
        "id": "dcMwq_Lk2LuL"
      },
      "execution_count": null,
      "outputs": []
    },
    {
      "cell_type": "markdown",
      "source": [
        "Categoria muito inconsistente com os primeiros elementos representando a maior parte do lucro da categoria, e tendo um item com lucro negativo muito grande"
      ],
      "metadata": {
        "id": "lL6zZ1qt2ZCr"
      }
    }
  ]
}